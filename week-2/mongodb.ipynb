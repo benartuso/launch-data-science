{
 "cells": [
  {
   "cell_type": "markdown",
   "metadata": {},
   "source": [
    "## Interacting with MongoDB from Python!\n",
    "\n",
    "We'll be using the pymongo package, like we used py2neo yesterday. "
   ]
  },
  {
   "cell_type": "code",
   "execution_count": 1,
   "metadata": {},
   "outputs": [
    {
     "name": "stdout",
     "output_type": "stream",
     "text": [
      "Collecting pymongo\n",
      "  Downloading pymongo-3.11.4-cp37-cp37m-macosx_10_6_intel.whl (414 kB)\n",
      "\u001b[K     |████████████████████████████████| 414 kB 5.0 MB/s eta 0:00:01\n",
      "\u001b[?25hInstalling collected packages: pymongo\n",
      "Successfully installed pymongo-3.11.4\n"
     ]
    }
   ],
   "source": [
    "!pip install pymongo\n",
    "import pymongo"
   ]
  },
  {
   "cell_type": "markdown",
   "metadata": {},
   "source": [
    "## Start the mongo daemon! ~ scary ~\n",
    "\n",
    "Import the MongoClient class to connect to your database, which should now be running."
   ]
  },
  {
   "cell_type": "code",
   "execution_count": 8,
   "metadata": {},
   "outputs": [],
   "source": [
    "from pymongo import MongoClient\n",
    "import pandas as pd\n",
    "client = MongoClient('localhost', 27017)"
   ]
  },
  {
   "cell_type": "markdown",
   "metadata": {},
   "source": [
    "### Create a database"
   ]
  },
  {
   "cell_type": "code",
   "execution_count": 9,
   "metadata": {},
   "outputs": [],
   "source": [
    "db = client.launch #Create a database called \"launch\""
   ]
  },
  {
   "cell_type": "markdown",
   "metadata": {},
   "source": [
    "### Create a collection\n",
    "\n",
    "As we said before, we can think of this as a loose equivalent to a SQL table. However, because of nesting, you might not end up having multiple of these in the way that you will SQL tables!"
   ]
  },
  {
   "cell_type": "code",
   "execution_count": 10,
   "metadata": {},
   "outputs": [],
   "source": [
    "#Create the \"people\" collection\n",
    "collection = db.people"
   ]
  },
  {
   "cell_type": "markdown",
   "metadata": {},
   "source": [
    "### Let's make the type of data we want to add. \n",
    "\n",
    "Same as yesterday with Forge full-timers: "
   ]
  },
  {
   "cell_type": "code",
   "execution_count": 11,
   "metadata": {},
   "outputs": [],
   "source": [
    "people = ['Daniel Willson', 'Andy Page', 'Kaleigh Watson', \"Amanda Coombs\"]\n",
    "job_title = ['VPP', 'ED', 'LPD', \"COO\"]\n",
    "schools = ['UVA', 'UVA', 'UVA', 'UVA']\n",
    "workplace = ['Forge', 'Forge', 'Forge', 'Forge']\n",
    "\n",
    "\n",
    "people = pd.DataFrame({'name':people, 'job':job_title, 'alma_mater':schools,\n",
    "                    'workplace':workplace})"
   ]
  },
  {
   "cell_type": "code",
   "execution_count": 12,
   "metadata": {},
   "outputs": [],
   "source": [
    "school_name = ['UVA', 'VT']\n",
    "school_type= ['Public', 'Public']\n",
    "school_size = [16000, 30000]\n",
    "\n",
    "company_name = ['Forge', 'Astraea']\n",
    "company_type = ['501(c)(3)', 'For-profit startup']\n",
    "\n",
    "\n",
    "schools = pd.DataFrame({'name':school_name, 'type':school_type, 'size':school_size})\n",
    "companies = pd.DataFrame({'name':company_name, 'type':company_type})"
   ]
  },
  {
   "cell_type": "code",
   "execution_count": 13,
   "metadata": {},
   "outputs": [
    {
     "data": {
      "text/html": [
       "<div>\n",
       "<style scoped>\n",
       "    .dataframe tbody tr th:only-of-type {\n",
       "        vertical-align: middle;\n",
       "    }\n",
       "\n",
       "    .dataframe tbody tr th {\n",
       "        vertical-align: top;\n",
       "    }\n",
       "\n",
       "    .dataframe thead th {\n",
       "        text-align: right;\n",
       "    }\n",
       "</style>\n",
       "<table border=\"1\" class=\"dataframe\">\n",
       "  <thead>\n",
       "    <tr style=\"text-align: right;\">\n",
       "      <th></th>\n",
       "      <th>name</th>\n",
       "      <th>job</th>\n",
       "      <th>alma_mater</th>\n",
       "      <th>workplace</th>\n",
       "    </tr>\n",
       "  </thead>\n",
       "  <tbody>\n",
       "    <tr>\n",
       "      <th>0</th>\n",
       "      <td>Daniel Willson</td>\n",
       "      <td>VPP</td>\n",
       "      <td>UVA</td>\n",
       "      <td>Forge</td>\n",
       "    </tr>\n",
       "    <tr>\n",
       "      <th>1</th>\n",
       "      <td>Andy Page</td>\n",
       "      <td>ED</td>\n",
       "      <td>UVA</td>\n",
       "      <td>Forge</td>\n",
       "    </tr>\n",
       "    <tr>\n",
       "      <th>2</th>\n",
       "      <td>Kaleigh Watson</td>\n",
       "      <td>LPD</td>\n",
       "      <td>UVA</td>\n",
       "      <td>Forge</td>\n",
       "    </tr>\n",
       "    <tr>\n",
       "      <th>3</th>\n",
       "      <td>Amanda Coombs</td>\n",
       "      <td>COO</td>\n",
       "      <td>UVA</td>\n",
       "      <td>Forge</td>\n",
       "    </tr>\n",
       "  </tbody>\n",
       "</table>\n",
       "</div>"
      ],
      "text/plain": [
       "             name  job alma_mater workplace\n",
       "0  Daniel Willson  VPP        UVA     Forge\n",
       "1       Andy Page   ED        UVA     Forge\n",
       "2  Kaleigh Watson  LPD        UVA     Forge\n",
       "3   Amanda Coombs  COO        UVA     Forge"
      ]
     },
     "execution_count": 13,
     "metadata": {},
     "output_type": "execute_result"
    }
   ],
   "source": [
    "people"
   ]
  },
  {
   "cell_type": "code",
   "execution_count": 14,
   "metadata": {},
   "outputs": [
    {
     "data": {
      "text/html": [
       "<div>\n",
       "<style scoped>\n",
       "    .dataframe tbody tr th:only-of-type {\n",
       "        vertical-align: middle;\n",
       "    }\n",
       "\n",
       "    .dataframe tbody tr th {\n",
       "        vertical-align: top;\n",
       "    }\n",
       "\n",
       "    .dataframe thead th {\n",
       "        text-align: right;\n",
       "    }\n",
       "</style>\n",
       "<table border=\"1\" class=\"dataframe\">\n",
       "  <thead>\n",
       "    <tr style=\"text-align: right;\">\n",
       "      <th></th>\n",
       "      <th>name</th>\n",
       "      <th>type</th>\n",
       "      <th>size</th>\n",
       "    </tr>\n",
       "  </thead>\n",
       "  <tbody>\n",
       "    <tr>\n",
       "      <th>0</th>\n",
       "      <td>UVA</td>\n",
       "      <td>Public</td>\n",
       "      <td>16000</td>\n",
       "    </tr>\n",
       "    <tr>\n",
       "      <th>1</th>\n",
       "      <td>VT</td>\n",
       "      <td>Public</td>\n",
       "      <td>30000</td>\n",
       "    </tr>\n",
       "  </tbody>\n",
       "</table>\n",
       "</div>"
      ],
      "text/plain": [
       "  name    type   size\n",
       "0  UVA  Public  16000\n",
       "1   VT  Public  30000"
      ]
     },
     "execution_count": 14,
     "metadata": {},
     "output_type": "execute_result"
    }
   ],
   "source": [
    "schools"
   ]
  },
  {
   "cell_type": "code",
   "execution_count": 15,
   "metadata": {},
   "outputs": [
    {
     "data": {
      "text/html": [
       "<div>\n",
       "<style scoped>\n",
       "    .dataframe tbody tr th:only-of-type {\n",
       "        vertical-align: middle;\n",
       "    }\n",
       "\n",
       "    .dataframe tbody tr th {\n",
       "        vertical-align: top;\n",
       "    }\n",
       "\n",
       "    .dataframe thead th {\n",
       "        text-align: right;\n",
       "    }\n",
       "</style>\n",
       "<table border=\"1\" class=\"dataframe\">\n",
       "  <thead>\n",
       "    <tr style=\"text-align: right;\">\n",
       "      <th></th>\n",
       "      <th>name</th>\n",
       "      <th>type</th>\n",
       "    </tr>\n",
       "  </thead>\n",
       "  <tbody>\n",
       "    <tr>\n",
       "      <th>0</th>\n",
       "      <td>Forge</td>\n",
       "      <td>501(c)(3)</td>\n",
       "    </tr>\n",
       "    <tr>\n",
       "      <th>1</th>\n",
       "      <td>Astraea</td>\n",
       "      <td>For-profit startup</td>\n",
       "    </tr>\n",
       "  </tbody>\n",
       "</table>\n",
       "</div>"
      ],
      "text/plain": [
       "      name                type\n",
       "0    Forge           501(c)(3)\n",
       "1  Astraea  For-profit startup"
      ]
     },
     "execution_count": 15,
     "metadata": {},
     "output_type": "execute_result"
    }
   ],
   "source": [
    "companies"
   ]
  },
  {
   "cell_type": "markdown",
   "metadata": {},
   "source": [
    "### Restructuring our data \n",
    "\n",
    "To insert it into MongoDB, we want our data to be in the format of python dictionaries. \n",
    "\n",
    "This allows us to properly nest our objects, and is much more convenient and pythonic than literal string representations. "
   ]
  },
  {
   "cell_type": "code",
   "execution_count": 16,
   "metadata": {},
   "outputs": [],
   "source": [
    "#Isolating just Daniel's row as an example: \n",
    "dan = people.iloc[0]"
   ]
  },
  {
   "cell_type": "code",
   "execution_count": 17,
   "metadata": {},
   "outputs": [
    {
     "data": {
      "text/plain": [
       "name          Daniel Willson\n",
       "job                      VPP\n",
       "alma_mater               UVA\n",
       "workplace              Forge\n",
       "Name: 0, dtype: object"
      ]
     },
     "execution_count": 17,
     "metadata": {},
     "output_type": "execute_result"
    }
   ],
   "source": [
    "dan"
   ]
  },
  {
   "cell_type": "code",
   "execution_count": 25,
   "metadata": {},
   "outputs": [
    {
     "name": "stdout",
     "output_type": "stream",
     "text": [
      "name Daniel Willson\n",
      "job VPP\n",
      "alma_mater UVA\n",
      "workplace Forge\n"
     ]
    }
   ],
   "source": [
    "#Let's see how we can iterate over these properties\n",
    "for i in range(len(dan)):\n",
    "    print(dan.index[i], dan[i])"
   ]
  },
  {
   "cell_type": "code",
   "execution_count": 26,
   "metadata": {},
   "outputs": [],
   "source": [
    "#Making a dictionary in flat structure: \n",
    "daniel_dictionary = {}\n",
    "for i in range(len(dan)):\n",
    "    daniel_dictionary[dan.index[i]] = dan[i]"
   ]
  },
  {
   "cell_type": "code",
   "execution_count": 28,
   "metadata": {},
   "outputs": [
    {
     "data": {
      "text/plain": [
       "'Daniel Willson'"
      ]
     },
     "execution_count": 28,
     "metadata": {},
     "output_type": "execute_result"
    }
   ],
   "source": [
    "daniel_dictionary[\"name\"]"
   ]
  },
  {
   "cell_type": "code",
   "execution_count": 29,
   "metadata": {},
   "outputs": [
    {
     "data": {
      "text/plain": [
       "<pymongo.results.InsertOneResult at 0x118d5fe88>"
      ]
     },
     "execution_count": 29,
     "metadata": {},
     "output_type": "execute_result"
    }
   ],
   "source": [
    "#Insert it into the database with insert_one\n",
    "collection.insert_one(daniel_dictionary)"
   ]
  },
  {
   "cell_type": "markdown",
   "metadata": {},
   "source": [
    "### Insert successful!\n",
    "\n",
    "Since dictionaries can be values of dictionary properties (read that again!), it's easy to perform the nesting functionality we discussed earlier. "
   ]
  },
  {
   "cell_type": "code",
   "execution_count": 38,
   "metadata": {},
   "outputs": [],
   "source": [
    "nest = {'name':'Ben',\n",
    "        'lname':'Artuso',\n",
    "        \n",
    "        'position':'Data Scientist',\n",
    "        \n",
    "        'company':{\n",
    "            'name':'Astraea',\n",
    "            'location': {\n",
    "                'city':'Charlottesville',\n",
    "                'state':'Virginia'\n",
    "            },\n",
    "            'domain':'GeoAI'\n",
    "        },\n",
    "        'pets':[\n",
    "            {'name':'Ozzie',\n",
    "            'species':'Dog',\n",
    "            'breed':'Cocker Spaniel'},\n",
    "            {'name':'Pip',\n",
    "            'species':'Dog',\n",
    "            'breed':'Yorkie'}\n",
    "        ]}"
   ]
  },
  {
   "cell_type": "code",
   "execution_count": 39,
   "metadata": {},
   "outputs": [
    {
     "data": {
      "text/plain": [
       "<pymongo.results.InsertOneResult at 0x118d64608>"
      ]
     },
     "execution_count": 39,
     "metadata": {},
     "output_type": "execute_result"
    }
   ],
   "source": [
    "collection.insert_one(nest)"
   ]
  },
  {
   "cell_type": "markdown",
   "metadata": {},
   "source": [
    "### Simple queries"
   ]
  },
  {
   "cell_type": "code",
   "execution_count": 42,
   "metadata": {},
   "outputs": [
    {
     "data": {
      "text/plain": [
       "{'_id': ObjectId('60b7bd00a70826c53dd6385b'),\n",
       " 'name': 'Ben',\n",
       " 'position': 'Data Scientist',\n",
       " 'company': {'name': 'Astraea',\n",
       "  'location': {'city': 'Charlottesville', 'state': 'Virginia'},\n",
       "  'domain': 'GeoAI'},\n",
       " 'pets': [{'name': 'Ozzie', 'species': 'Dog', 'breed': 'Cocker Spaniel'},\n",
       "  {'name': 'Pip', 'species': 'Dog', 'breed': 'Yorkie'}]}"
      ]
     },
     "execution_count": 42,
     "metadata": {},
     "output_type": "execute_result"
    }
   ],
   "source": [
    "collection.find_one({'name':'Ben'})"
   ]
  },
  {
   "cell_type": "code",
   "execution_count": 45,
   "metadata": {},
   "outputs": [
    {
     "name": "stdout",
     "output_type": "stream",
     "text": [
      "{'_id': ObjectId('60b7bd00a70826c53dd6385b'), 'name': 'Ben', 'position': 'Data Scientist', 'company': {'name': 'Astraea', 'location': {'city': 'Charlottesville', 'state': 'Virginia'}, 'domain': 'GeoAI'}, 'pets': [{'name': 'Ozzie', 'species': 'Dog', 'breed': 'Cocker Spaniel'}, {'name': 'Pip', 'species': 'Dog', 'breed': 'Yorkie'}]}\n",
      "\n",
      "\n",
      "\n",
      "{'_id': ObjectId('60b7bdaca70826c53dd6385c'), 'name': 'Ben', 'lname': 'Artuso', 'position': 'Data Scientist', 'company': {'name': 'Astraea', 'location': {'city': 'Charlottesville', 'state': 'Virginia'}, 'domain': 'GeoAI'}, 'pets': [{'name': 'Ozzie', 'species': 'Dog', 'breed': 'Cocker Spaniel'}, {'name': 'Pip', 'species': 'Dog', 'breed': 'Yorkie'}]}\n",
      "\n",
      "\n",
      "\n"
     ]
    }
   ],
   "source": [
    "#Double inserted ben so you could see this in action: \n",
    "for val in collection.find({'name':'Ben'}):\n",
    "    print(val)\n",
    "    print(\"\\n\\n\")"
   ]
  },
  {
   "cell_type": "code",
   "execution_count": 47,
   "metadata": {},
   "outputs": [
    {
     "data": {
      "text/plain": [
       "3"
      ]
     },
     "execution_count": 47,
     "metadata": {},
     "output_type": "execute_result"
    }
   ],
   "source": [
    "#how many docs are in the entire collection? \n",
    "collection.count_documents({})"
   ]
  },
  {
   "cell_type": "markdown",
   "metadata": {},
   "source": [
    "### But wait - how do I programmatically insert data in the right structure, i.e. as nested objects? How can I even do that? \n",
    "\n",
    "in the words of Launch instructors past:"
   ]
  },
  {
   "cell_type": "code",
   "execution_count": 48,
   "metadata": {},
   "outputs": [
    {
     "name": "stdout",
     "output_type": "stream",
     "text": [
      "Figure it out ;)\n"
     ]
    }
   ],
   "source": [
    "print(\"Figure it out ;)\")"
   ]
  },
  {
   "cell_type": "code",
   "execution_count": null,
   "metadata": {},
   "outputs": [],
   "source": []
  }
 ],
 "metadata": {
  "kernelspec": {
   "display_name": "Python 3",
   "language": "python",
   "name": "python3"
  },
  "language_info": {
   "codemirror_mode": {
    "name": "ipython",
    "version": 3
   },
   "file_extension": ".py",
   "mimetype": "text/x-python",
   "name": "python",
   "nbconvert_exporter": "python",
   "pygments_lexer": "ipython3",
   "version": "3.7.3"
  }
 },
 "nbformat": 4,
 "nbformat_minor": 4
}
