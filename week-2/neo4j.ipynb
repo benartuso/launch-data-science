{
 "cells": [
  {
   "cell_type": "markdown",
   "metadata": {},
   "source": [
    "## Neo4j via python\n",
    "\n",
    "First, we need to import the driver package we want to use. \n",
    "\n",
    "Neo4j provides an official one, called neo4j, but py2neo is much, much easier to use. \n"
   ]
  },
  {
   "cell_type": "code",
   "execution_count": 60,
   "metadata": {},
   "outputs": [
    {
     "name": "stdout",
     "output_type": "stream",
     "text": [
      "Requirement already satisfied: py2neo in /Users/ben/anaconda3/lib/python3.7/site-packages (4.3.0)\n",
      "Requirement already satisfied: certifi in /Users/ben/anaconda3/lib/python3.7/site-packages (from py2neo) (2019.11.28)\n",
      "Requirement already satisfied: neobolt~=1.7.12 in /Users/ben/anaconda3/lib/python3.7/site-packages (from py2neo) (1.7.17)\n",
      "Requirement already satisfied: urllib3<1.25,>=1.23 in /Users/ben/anaconda3/lib/python3.7/site-packages (from py2neo) (1.24.3)\n",
      "Requirement already satisfied: neotime~=1.7.4 in /Users/ben/anaconda3/lib/python3.7/site-packages (from py2neo) (1.7.4)\n",
      "Requirement already satisfied: pytz in /Users/ben/anaconda3/lib/python3.7/site-packages (from py2neo) (2019.3)\n",
      "Requirement already satisfied: pygments~=2.3.1 in /Users/ben/anaconda3/lib/python3.7/site-packages (from py2neo) (2.3.1)\n",
      "Requirement already satisfied: click==7.0 in /Users/ben/anaconda3/lib/python3.7/site-packages (from py2neo) (7.0)\n",
      "Requirement already satisfied: prompt-toolkit~=2.0.7 in /Users/ben/anaconda3/lib/python3.7/site-packages (from py2neo) (2.0.10)\n",
      "Requirement already satisfied: colorama in /Users/ben/anaconda3/lib/python3.7/site-packages (from py2neo) (0.4.3)\n",
      "Requirement already satisfied: six in /Users/ben/anaconda3/lib/python3.7/site-packages (from neotime~=1.7.4->py2neo) (1.14.0)\n",
      "Requirement already satisfied: wcwidth in /Users/ben/anaconda3/lib/python3.7/site-packages (from prompt-toolkit~=2.0.7->py2neo) (0.1.8)\n"
     ]
    }
   ],
   "source": [
    "!pip install py2neo\n",
    "import py2neo"
   ]
  },
  {
   "cell_type": "markdown",
   "metadata": {},
   "source": [
    "Launch your database in Neo4j destkop, and figure out what port it's running on. \n",
    "\n",
    "Right now, mine is running at localhost:7687.\n",
    "\n",
    "Import the Graph module from py2neo to connect to our graph."
   ]
  },
  {
   "cell_type": "code",
   "execution_count": 61,
   "metadata": {},
   "outputs": [],
   "source": [
    "from py2neo import Graph"
   ]
  },
  {
   "cell_type": "markdown",
   "metadata": {},
   "source": [
    "Establish a connection with the graph using the localhost port your graph is running on. \n",
    "\n",
    "Specify your username and password - the defaults will be \"neo4j\" and \"password.\""
   ]
  },
  {
   "cell_type": "code",
   "execution_count": 79,
   "metadata": {},
   "outputs": [],
   "source": [
    "graph = Graph(\"bolt://localhost:7687\", auth=(\"neo4j\", \"launch\"))"
   ]
  },
  {
   "cell_type": "code",
   "execution_count": 80,
   "metadata": {},
   "outputs": [
    {
     "data": {
      "text/plain": [
       "py2neo.database.Graph"
      ]
     },
     "execution_count": 80,
     "metadata": {},
     "output_type": "execute_result"
    }
   ],
   "source": [
    "type(graph)"
   ]
  },
  {
   "cell_type": "markdown",
   "metadata": {},
   "source": [
    "## Method 1: Explicit cypher execution"
   ]
  },
  {
   "cell_type": "markdown",
   "metadata": {},
   "source": [
    "Now, we can use graph.run to run cypher queries directly from python!"
   ]
  },
  {
   "cell_type": "code",
   "execution_count": 81,
   "metadata": {},
   "outputs": [
    {
     "data": {
      "text/plain": [
       "<py2neo.database.Cursor at 0x11fdce4e0>"
      ]
     },
     "execution_count": 81,
     "metadata": {},
     "output_type": "execute_result"
    }
   ],
   "source": [
    "graph.run(\"CREATE (n:Person {name:'Ben', grad_year:2020})\")"
   ]
  },
  {
   "cell_type": "code",
   "execution_count": 82,
   "metadata": {},
   "outputs": [
    {
     "data": {
      "text/plain": [
       "<py2neo.database.Cursor at 0x11fdd7b00>"
      ]
     },
     "execution_count": 82,
     "metadata": {},
     "output_type": "execute_result"
    }
   ],
   "source": [
    "#Delete all observations \n",
    "graph.run(\"MATCH (n) DETACH DELETE n\")"
   ]
  },
  {
   "cell_type": "code",
   "execution_count": 83,
   "metadata": {},
   "outputs": [
    {
     "data": {
      "text/plain": [
       "<py2neo.database.Cursor at 0x11fdd7048>"
      ]
     },
     "execution_count": 83,
     "metadata": {},
     "output_type": "execute_result"
    }
   ],
   "source": [
    "graph.run(\"MATCH (n) RETURN n\")"
   ]
  },
  {
   "cell_type": "code",
   "execution_count": 84,
   "metadata": {},
   "outputs": [],
   "source": [
    "import pandas as pd\n",
    "names = ['Daniel Willson', \"Andy Page\", \"Kaleigh Watson\", \"Amanda Coombs\"]\n",
    "titles = ['VPP', \"ED\", \"LPD\", \"COO\"]\n",
    "schools = ['UVA', 'UVA', 'UVA', 'UVA']\n",
    "workplaces = ['Forge', 'Forge', 'Forge', 'Forge']\n",
    "\n",
    "people = pd.DataFrame({'name':names, 'title':titles, 'school':schools, 'workplace':workplaces})"
   ]
  },
  {
   "cell_type": "code",
   "execution_count": 85,
   "metadata": {},
   "outputs": [],
   "source": [
    "school_name = ['UVA', 'VT']\n",
    "school_type= ['Public', 'Public']\n",
    "school_size = [16000, 30000]\n",
    "\n",
    "company_name = ['Forge', 'Astraea']\n",
    "company_type = ['501(c)(3)', 'For-profit startup']\n",
    "\n",
    "\n",
    "schools = pd.DataFrame({'name':school_name, 'type':school_type, 'size':school_size})\n",
    "companies = pd.DataFrame({'name':company_name, 'type':company_type})"
   ]
  },
  {
   "cell_type": "code",
   "execution_count": 86,
   "metadata": {},
   "outputs": [
    {
     "data": {
      "text/html": [
       "<div>\n",
       "<style scoped>\n",
       "    .dataframe tbody tr th:only-of-type {\n",
       "        vertical-align: middle;\n",
       "    }\n",
       "\n",
       "    .dataframe tbody tr th {\n",
       "        vertical-align: top;\n",
       "    }\n",
       "\n",
       "    .dataframe thead th {\n",
       "        text-align: right;\n",
       "    }\n",
       "</style>\n",
       "<table border=\"1\" class=\"dataframe\">\n",
       "  <thead>\n",
       "    <tr style=\"text-align: right;\">\n",
       "      <th></th>\n",
       "      <th>name</th>\n",
       "      <th>type</th>\n",
       "      <th>size</th>\n",
       "    </tr>\n",
       "  </thead>\n",
       "  <tbody>\n",
       "    <tr>\n",
       "      <th>0</th>\n",
       "      <td>UVA</td>\n",
       "      <td>Public</td>\n",
       "      <td>16000</td>\n",
       "    </tr>\n",
       "    <tr>\n",
       "      <th>1</th>\n",
       "      <td>VT</td>\n",
       "      <td>Public</td>\n",
       "      <td>30000</td>\n",
       "    </tr>\n",
       "  </tbody>\n",
       "</table>\n",
       "</div>"
      ],
      "text/plain": [
       "  name    type   size\n",
       "0  UVA  Public  16000\n",
       "1   VT  Public  30000"
      ]
     },
     "execution_count": 86,
     "metadata": {},
     "output_type": "execute_result"
    }
   ],
   "source": [
    "schools"
   ]
  },
  {
   "cell_type": "markdown",
   "metadata": {},
   "source": [
    "Create *what will be referened* before you create *what will reference it.*"
   ]
  },
  {
   "cell_type": "code",
   "execution_count": 87,
   "metadata": {},
   "outputs": [
    {
     "name": "stdout",
     "output_type": "stream",
     "text": [
      "name       UVA\n",
      "type    Public\n",
      "size     16000\n",
      "Name: 0, dtype: object\n",
      "name        VT\n",
      "type    Public\n",
      "size     30000\n",
      "Name: 1, dtype: object\n"
     ]
    }
   ],
   "source": [
    "#Creating schools: \n",
    "\n",
    "for i in range(len(schools)):\n",
    "    print(schools.iloc[i])"
   ]
  },
  {
   "cell_type": "code",
   "execution_count": 88,
   "metadata": {},
   "outputs": [
    {
     "data": {
      "text/plain": [
       "'16000'"
      ]
     },
     "execution_count": 88,
     "metadata": {},
     "output_type": "execute_result"
    }
   ],
   "source": [
    "str(16000)"
   ]
  },
  {
   "cell_type": "markdown",
   "metadata": {},
   "source": [
    "We want our create string to be: \n",
    "\n",
    "CREATE (n:SCHOOL {name:\"UVA\", size:16000, type:\"Public\"})"
   ]
  },
  {
   "cell_type": "code",
   "execution_count": 89,
   "metadata": {},
   "outputs": [
    {
     "name": "stdout",
     "output_type": "stream",
     "text": [
      "CREATE (:SCHOOL {name:UVA,size:16000,type:Public\n",
      "CREATE (:SCHOOL {name:VT,size:30000,type:Public\n"
     ]
    }
   ],
   "source": [
    "#Let's work with this, constructing a cypher statement for each row. \n",
    "\n",
    "for i in range(len(schools)):\n",
    "    row = schools.iloc[i]\n",
    "    print(\"CREATE (:SCHOOL {name:\" + row['name'] + \",size:\" + str(row['size']) + \",type:\" + row.type)"
   ]
  },
  {
   "cell_type": "code",
   "execution_count": 90,
   "metadata": {},
   "outputs": [
    {
     "name": "stdout",
     "output_type": "stream",
     "text": [
      "CREATE (:SCHOOL {name:'UVA',size:3,type:'Public'\n",
      "CREATE (:SCHOOL {name:'VT',size:3,type:'Public'\n"
     ]
    }
   ],
   "source": [
    "#Turns out we need to add quotes where we want them (but not where we don't!)\n",
    "\n",
    "for i in range(len(schools)):\n",
    "    row = schools.iloc[i]\n",
    "    print(\"CREATE (:SCHOOL {name:'\" + row['name'] + \"',size:\" + str(row.size) + \",type:'\" + row.type+\"'\")"
   ]
  },
  {
   "cell_type": "markdown",
   "metadata": {},
   "source": [
    "Much better! Now we're able to \"run\" this into the graph"
   ]
  },
  {
   "cell_type": "code",
   "execution_count": 91,
   "metadata": {},
   "outputs": [],
   "source": [
    "for i in range(len(schools)):\n",
    "    row = schools.iloc[i]\n",
    "    graph.run(\"CREATE (:SCHOOL {name:'\" + row['name'] + \"',size:\" + str(row.size) + \",type:'\" + row.type+\"'})\")"
   ]
  },
  {
   "cell_type": "markdown",
   "metadata": {},
   "source": [
    "Similarly for companies:"
   ]
  },
  {
   "cell_type": "code",
   "execution_count": 92,
   "metadata": {},
   "outputs": [],
   "source": [
    "for i in range(len(companies)):\n",
    "    row = companies.iloc[i]\n",
    "    graph.run(\"CREATE (:COMPANY {name:'\" + row['name'] + \"',type:'\" + row.type+\"'})\")"
   ]
  },
  {
   "cell_type": "markdown",
   "metadata": {},
   "source": [
    "Reading in people, and creating some links."
   ]
  },
  {
   "cell_type": "code",
   "execution_count": 93,
   "metadata": {},
   "outputs": [],
   "source": [
    "for i in range(len(people)):\n",
    "    row = people.iloc[i]\n",
    "    #First step: Create the person nodes, with the properties that won't be used to create relationships.\n",
    "    graph.run(\"CREATE (:PERSON {name:'\" + row['name'] + \"'})\")\n",
    "    \n",
    "    #What would creating relationships to companies and schools look like? Let's go to the cypher browser\n",
    "    graph.run(\"MATCH (p:PERSON {name:'\" + row['name'] +\"'}), (c:COMPANY {name:'\" + row['workplace'] + \"'}) CREATE (p)-[:WORKS_AT]->(c)\")\n",
    "    \n",
    "    #Same (similar) deal for schools\n",
    "    graph.run(\"MATCH (p:PERSON {name:'\" + row['name'] +\"'}), (s:SCHOOL {name:'\" + row['school'] + \"'}) CREATE (p)-[:ATTENDED]->(s)\")"
   ]
  },
  {
   "cell_type": "code",
   "execution_count": 94,
   "metadata": {},
   "outputs": [
    {
     "data": {
      "text/plain": [
       "<Graph database=<Database uri='bolt://localhost:7687' secure=False user_agent='py2neo/4.3.0 neobolt/1.7.17 Python/3.7.3-final-0 (darwin)'> name='data'>"
      ]
     },
     "execution_count": 94,
     "metadata": {},
     "output_type": "execute_result"
    }
   ],
   "source": [
    "graph"
   ]
  },
  {
   "cell_type": "code",
   "execution_count": null,
   "metadata": {},
   "outputs": [],
   "source": [
    "#Template strings make this drastically less hideous."
   ]
  },
  {
   "cell_type": "code",
   "execution_count": null,
   "metadata": {},
   "outputs": [],
   "source": [
    "for i in range(len(people)):\n",
    "    row = people.iloc[i]\n",
    "    #First step: Create the person nodes, with the properties that won't be used to create relationships.\n",
    "    graph.run(\"CREATE (:PERSON {name:'\" + row['name'] + \"'})\")\n",
    "    \n",
    "    #What would creating relationships to companies and schools look like? Let's go to the cypher browser\n",
    "    graph.run(\"MATCH (p:PERSON {name:'\" + row['name'] +\"'}), (c:COMPANY {name:'\" + row['workplace'] + \"'}) CREATE (p)-[:WORKS_AT]->(c)\")\n",
    "    \n",
    "    #Same (similar) deal for schools\n",
    "    graph.run(\"MATCH (p:PERSON {name:'\" + row['name'] +\"'}), (s:SCHOOL {name:'\" + row['school'] + \"'}) CREATE (p)-[:ATTENDED]->(s)\")"
   ]
  },
  {
   "cell_type": "markdown",
   "metadata": {},
   "source": [
    "## Method 2: Using actual py2neo datatypes!\n",
    "Node(\"label\", property=\"value\", property=\"value\")"
   ]
  },
  {
   "cell_type": "code",
   "execution_count": 103,
   "metadata": {},
   "outputs": [],
   "source": [
    "graph.run(\"MATCH (n) DETACH DELETE n\")\n",
    "from py2neo import Node\n",
    "kaleigh = Node(\"Person\", name = \"Kaleigh Watson\", coworkers = ['Andy', 'Amanda', 'Daniel'])"
   ]
  },
  {
   "cell_type": "code",
   "execution_count": 104,
   "metadata": {},
   "outputs": [],
   "source": [
    "graph.create(kaleigh)"
   ]
  },
  {
   "cell_type": "code",
   "execution_count": 108,
   "metadata": {},
   "outputs": [],
   "source": [
    "from py2neo import Relationship\n",
    "WorksFor = Relationship.type(\"WORKS_FOR\")\n",
    "Attended = Relationship.type(\"ATTENDED\")"
   ]
  },
  {
   "cell_type": "code",
   "execution_count": 154,
   "metadata": {},
   "outputs": [],
   "source": [
    "forge = Node(\"Company\", name = \"Forge\", type=\"501c3\")\n",
    "uva = Node(\"School\", name = \"UVA\", type = \"Public\")"
   ]
  },
  {
   "cell_type": "code",
   "execution_count": 112,
   "metadata": {},
   "outputs": [],
   "source": [
    "#Create the relationship between kaleigh and forge. \n",
    "graph.create(WorksFor(kaleigh, uva))\n"
   ]
  },
  {
   "cell_type": "code",
   "execution_count": 138,
   "metadata": {},
   "outputs": [
    {
     "data": {
      "text/plain": [
       "(_11:Company {name: 'Forge', type: '501c3'})"
      ]
     },
     "execution_count": 138,
     "metadata": {},
     "output_type": "execute_result"
    }
   ],
   "source": [
    "from py2neo import Graph, NodeMatcher\n",
    "matcher = NodeMatcher(graph)\n",
    "\n",
    "#The older, .match(\"Type\", attr=\"value\", attr=\"value\") syntax appears broken. We'll use this instead:\n",
    "matcher.match(\"Company\").where(\"_.name = 'Forge'\").first()"
   ]
  },
  {
   "cell_type": "code",
   "execution_count": 149,
   "metadata": {},
   "outputs": [
    {
     "data": {
      "text/plain": [
       "<py2neo.database.Cursor at 0x11fdda1d0>"
      ]
     },
     "execution_count": 149,
     "metadata": {},
     "output_type": "execute_result"
    }
   ],
   "source": [
    "graph.run(\"Match (n) detach delete n\")"
   ]
  },
  {
   "cell_type": "markdown",
   "metadata": {},
   "source": [
    "Per this github issue (https://github.com/technige/py2neo/issues/777)\n",
    "\n",
    "It appears that this type of functionality is broken or just not supported, since the \"create\" statement simply overrides both nodes and creates new ones. \n",
    "\n",
    "Would love to see someone figure this out, definitely poke around and see if you can get it to work! \n",
    "\n",
    "We'll use this workaround for now: \n",
    "\n",
    "- Read in each individual node type\n",
    "- Connect the nodes based on properties \n",
    "- Delete the redundant properties from each node."
   ]
  },
  {
   "cell_type": "code",
   "execution_count": 157,
   "metadata": {},
   "outputs": [
    {
     "data": {
      "text/plain": [
       "<py2neo.database.Cursor at 0x1202ad2e8>"
      ]
     },
     "execution_count": 157,
     "metadata": {},
     "output_type": "execute_result"
    }
   ],
   "source": [
    "graph.run(\"Match (n) detach delete n\")"
   ]
  },
  {
   "cell_type": "markdown",
   "metadata": {},
   "source": [
    "### 1: Read in each individual node type using this easier API method"
   ]
  },
  {
   "cell_type": "code",
   "execution_count": 160,
   "metadata": {},
   "outputs": [],
   "source": [
    "#People\n",
    "for i in range(len(people)):\n",
    "    row = people.iloc[i]\n",
    "    person = Node(\"Person\", name = row['name'], workplace=row['workplace'], school = row['school'])\n",
    "    graph.create(person)\n",
    "#Schools\n",
    "for i in range(len(schools)):\n",
    "    row = schools.iloc[i]\n",
    "    school = Node(\"School\", name = row['name'], type=row['type'], size = str(row['size']))\n",
    "    graph.create(school)\n",
    "#Companies\n",
    "for i in range(len(companies)):\n",
    "    row = companies.iloc[i]\n",
    "    company = Node(\"Company\", name = row['name'], type = row['type'])\n",
    "    graph.create(company)"
   ]
  },
  {
   "cell_type": "markdown",
   "metadata": {},
   "source": [
    "### 2: Use raw cypher queries to connect the nodes based on properties"
   ]
  },
  {
   "cell_type": "code",
   "execution_count": 163,
   "metadata": {},
   "outputs": [
    {
     "data": {
      "text/plain": [
       "<py2neo.database.Cursor at 0x1202c8fd0>"
      ]
     },
     "execution_count": 163,
     "metadata": {},
     "output_type": "execute_result"
    }
   ],
   "source": [
    "#People ATTENDED Schools\n",
    "graph.run(\"MATCH (n:Person), (m:School) WHERE n.school = m.name CREATE (n)-[:ATTENDED]->(m)\")\n",
    "\n",
    "#People WORK_AT Comapnies\n",
    "graph.run(\"MATCH (n:Person), (m:Company) WHERE n.workplace = m.name CREATE (n)-[:WORKS_AT]->(m)\")"
   ]
  },
  {
   "cell_type": "markdown",
   "metadata": {},
   "source": [
    "### 3. Eliminate redundant properties\n",
    "We want to get rid of those extra properties we had on our person nodes, since we don't need to explicitly see what School they attended and where there Workplace is. "
   ]
  },
  {
   "cell_type": "code",
   "execution_count": 167,
   "metadata": {},
   "outputs": [
    {
     "data": {
      "text/plain": [
       "<py2neo.database.Cursor at 0x1202b8828>"
      ]
     },
     "execution_count": 167,
     "metadata": {},
     "output_type": "execute_result"
    }
   ],
   "source": [
    "graph.run(\"MATCH (n:Person) REMOVE n.workplace, n.school\")"
   ]
  },
  {
   "cell_type": "code",
   "execution_count": null,
   "metadata": {},
   "outputs": [],
   "source": []
  }
 ],
 "metadata": {
  "kernelspec": {
   "display_name": "Python 3",
   "language": "python",
   "name": "python3"
  },
  "language_info": {
   "codemirror_mode": {
    "name": "ipython",
    "version": 3
   },
   "file_extension": ".py",
   "mimetype": "text/x-python",
   "name": "python",
   "nbconvert_exporter": "python",
   "pygments_lexer": "ipython3",
   "version": "3.7.3"
  }
 },
 "nbformat": 4,
 "nbformat_minor": 4
}
